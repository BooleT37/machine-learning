{
 "cells": [
  {
   "cell_type": "code",
   "execution_count": 8,
   "metadata": {},
   "outputs": [],
   "source": [
    "from sklearn import metrics\n",
    "from sklearn.feature_extraction.text import HashingVectorizer\n",
    "from sklearn.naive_bayes import MultinomialNB\n",
    "\n",
    "from datareader import read_csv\n",
    "from utils import count_false_positives_and_negatives"
   ]
  },
  {
   "cell_type": "markdown",
   "metadata": {},
   "source": [
    "### Константы:\n",
    "сколько строк читать, сколько % на обучающую и тестовую выборку"
   ]
  },
  {
   "cell_type": "code",
   "execution_count": 9,
   "metadata": {},
   "outputs": [],
   "source": [
    "TOTAL_VALUES_COUNT = 40000\n",
    "TRAIN_VALUES_PART = 0.8\n",
    "TRAIN_VALUES_COUNT = int(TOTAL_VALUES_COUNT * TRAIN_VALUES_PART)"
   ]
  },
  {
   "cell_type": "markdown",
   "metadata": {},
   "source": [
    "### Читаем данные из файла\n",
    "И разбиваем их на обучающие и тестовые"
   ]
  },
  {
   "cell_type": "code",
   "execution_count": 10,
   "metadata": {},
   "outputs": [
    {
     "name": "stdout",
     "output_type": "stream",
     "text": [
      "Reading line 1000...\n",
      "Reading line 2000...\n",
      "Reading line 3000...\n",
      "Reading line 4000...\n",
      "Reading line 5000...\n",
      "Reading line 6000...\n",
      "Reading line 7000...\n",
      "Reading line 8000...\n",
      "Reading line 9000...\n",
      "Reading line 10000...\n",
      "Reading line 11000...\n",
      "Reading line 12000...\n",
      "Reading line 13000...\n",
      "Reading line 14000...\n",
      "Reading line 15000...\n",
      "Reading line 16000...\n",
      "Reading line 17000...\n",
      "Reading line 18000...\n",
      "Reading line 19000...\n",
      "Reading line 20000...\n",
      "Reading line 21000...\n",
      "Reading line 22000...\n",
      "Reading line 23000...\n",
      "Reading line 24000...\n",
      "Reading line 25000...\n",
      "Reading line 26000...\n",
      "Reading line 27000...\n",
      "Reading line 28000...\n",
      "Reading line 29000...\n",
      "Reading line 30000...\n",
      "Reading line 31000...\n",
      "Reading line 32000...\n",
      "Reading line 33000...\n",
      "Reading line 34000...\n",
      "Reading line 35000...\n",
      "Reading line 36000...\n",
      "Reading line 37000...\n",
      "Reading line 38000...\n",
      "Reading line 39000...\n",
      "Reading line 40000...\n"
     ]
    }
   ],
   "source": [
    "df_train_test = read_csv('./data/train.csv', True, TOTAL_VALUES_COUNT)\n",
    "df_train = df_train_test[:TRAIN_VALUES_COUNT]\n",
    "df_test = df_train_test[TRAIN_VALUES_COUNT:]"
   ]
  },
  {
   "cell_type": "markdown",
   "metadata": {},
   "source": [
    "### Формируем вектора признаков из каждой строки\n",
    "Формируем разреженную матрицу априорной вероятности встретить каждое слово в имени человека/организации"
   ]
  },
  {
   "cell_type": "code",
   "execution_count": 11,
   "metadata": {},
   "outputs": [],
   "source": [
    "vectorizer = HashingVectorizer(alternate_sign=False)\n",
    "X_train = vectorizer.transform(df_train['name'])\n",
    "X_test = vectorizer.transform(df_test['name'])"
   ]
  },
  {
   "cell_type": "markdown",
   "metadata": {},
   "source": [
    "### Формируем признаки принадлежности каждой строки к классу \"организация\""
   ]
  },
  {
   "cell_type": "code",
   "execution_count": 12,
   "metadata": {},
   "outputs": [],
   "source": [
    "y_train = df_train['isOrg'].map(lambda v: 1 if v else 0)\n",
    "y_test = df_test['isOrg'].map(lambda v: 1 if v else 0)"
   ]
  },
  {
   "cell_type": "markdown",
   "metadata": {},
   "source": [
    "### Настраиваем мультиномиальный наивный Байесовский классификатор\n",
    "И обучаем его"
   ]
  },
  {
   "cell_type": "code",
   "execution_count": 13,
   "metadata": {},
   "outputs": [],
   "source": [
    "clf = MultinomialNB(alpha=.005)\n",
    "clf.fit(X_train, y_train)\n",
    "y_pred = clf.predict(X_test)"
   ]
  },
  {
   "cell_type": "markdown",
   "metadata": {},
   "source": [
    "### Считаем метрики"
   ]
  },
  {
   "cell_type": "code",
   "execution_count": 14,
   "metadata": {},
   "outputs": [
    {
     "name": "stdout",
     "output_type": "stream",
     "text": [
      "Из общего числа 40000 строк: \n",
      "\tЛожно-положительные: 15 \n",
      "\t(\n",
      "\t\t\"Гриньков М. С. г. Н. Новгород\"\n",
      "\t\t\"Гапоненко Роза Инокентьевна\"\n",
      "\t\t\"Игнатова Л. В\"\n",
      "\t\t\"Кучуков К.Ю\"\n",
      "\t\t\"Цуканова Л. А\"\n",
      "\t\t\"Пономаренко А. В\"\n",
      "\t\t\"Набиев Салман Абдурахманович\"\n",
      "\t\t\"Глазева Н.А\"\n",
      "\t\t\"Бачиев М. Ю\"\n",
      "\t\t\"Кадеш В. Г. г. Н.Новгород\"\n",
      "\t\t\"Ананян С. С\"\n",
      "\t\t\"Садыкова Фарида Фаизовна\"\n",
      "\t\t\"Камаева Н. Б. г. Н. Новгород\"\n",
      "\t\t\"Мелькина И А\"\n",
      "\t\t\"Качурин Д. Н\"\n",
      "\t)\n",
      "\tЛожно-отрицательные: 5 \n",
      "\t(\n",
      "\t\t\"КПК \"Общедоступный кредитъ-Мста\"\"\n",
      "\t\t\"КФХ \"Мелихов и сыновья\"\"\n",
      "\t\t\"Штепо Андрей Викторович\"\n",
      "\t\t\"Глава Кфх Володина Валентина Михайловна\"\n",
      "\t\t\"ТОС Стеклозавод\"\n",
      "\t)\n",
      "\tТочность: 0.9979983987189752%\n"
     ]
    }
   ],
   "source": [
    "score = metrics.precision_score(y_test, y_pred)\n",
    "false_positives, false_negatives = count_false_positives_and_negatives(y_test, y_pred)\n",
    "false_positives_str = '\"' + '\"\\n\\t\\t\"'.join(df_test[\"name\"][false_positives]) + '\"'\n",
    "false_positives_sum = sum(false_positives)\n",
    "\n",
    "false_negatives_str = '\"' + '\"\\n\\t\\t\"'.join(df_test[\"name\"][false_negatives]) + '\"'\n",
    "false_negatives_sum = sum(false_negatives)\n",
    "\n",
    "print(f'Из общего числа {len(df_train_test)} строк: \\n'\n",
    "      f'\\tЛожно-положительные: {false_positives_sum} \\n\\t(\\n\\t\\t{false_positives_str}\\n\\t)\\n'\n",
    "      f'\\tЛожно-отрицательные: {false_negatives_sum} \\n\\t(\\n\\t\\t{false_negatives_str}\\n\\t)\\n'\n",
    "      f'\\tТочность: {score}%')"
   ]
  },
  {
   "cell_type": "code",
   "execution_count": null,
   "metadata": {},
   "outputs": [],
   "source": []
  }
 ],
 "metadata": {
  "kernelspec": {
   "display_name": "Python 3",
   "language": "python",
   "name": "python3"
  },
  "language_info": {
   "codemirror_mode": {
    "name": "ipython",
    "version": 3
   },
   "file_extension": ".py",
   "mimetype": "text/x-python",
   "name": "python",
   "nbconvert_exporter": "python",
   "pygments_lexer": "ipython3",
   "version": "3.6.3"
  }
 },
 "nbformat": 4,
 "nbformat_minor": 1
}
