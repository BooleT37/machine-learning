{
 "cells": [
  {
   "cell_type": "markdown",
   "metadata": {},
   "source": [
    "## Валидация алгоритма"
   ]
  },
  {
   "cell_type": "code",
   "execution_count": 1,
   "metadata": {},
   "outputs": [],
   "source": [
    "import os\n",
    "import pandas as pd\n",
    "import numpy as np\n",
    "from task2.NaiveBayesSpamClassifier import NaiveBayesSpamClassifier\n",
    "\n",
    "# % файлов для обучающей выборки. Остальные - в валидационную\n",
    "TRAIN_VALUES_PART = 0.8"
   ]
  },
  {
   "cell_type": "markdown",
   "metadata": {},
   "source": [
    "### Список имен спам и не-спам файлов"
   ]
  },
  {
   "cell_type": "code",
   "execution_count": 2,
   "metadata": {},
   "outputs": [],
   "source": [
    "files_spam = list(map(lambda fname: 'data/spam/' + fname, os.listdir(\"data/spam\")))\n",
    "files_ham = list(map(lambda fname: 'data/notSpam/' + fname, os.listdir(\"data/notSpam\")))"
   ]
  },
  {
   "cell_type": "markdown",
   "metadata": {},
   "source": [
    "### Разбиваем файлы на обучающую и валидационную выборки"
   ]
  },
  {
   "cell_type": "code",
   "execution_count": 3,
   "metadata": {},
   "outputs": [],
   "source": [
    "# Число файлов на обучающую выборку\n",
    "num_files_spam_train = int(TRAIN_VALUES_PART * len(files_spam))\n",
    "num_files_ham_train = int(TRAIN_VALUES_PART * len(files_ham))\n",
    "\n",
    "# Имена файлов обучающей выборки\n",
    "files_spam_train = files_spam[:num_files_spam_train]\n",
    "files_ham_train = files_ham[:num_files_ham_train]\n",
    "\n",
    "# Имена файлов валидационной выборки\n",
    "files_spam_validating = files_spam[num_files_spam_train:]\n",
    "files_ham_validating = files_ham[num_files_ham_train:]\n",
    "\n",
    "# Число файлов валидационной выборки\n",
    "num_files_spam_vd = len(files_spam_validating)\n",
    "num_files_ham_vd = len(files_ham_validating)\n",
    "num_files_vd = num_files_spam_vd + num_files_ham_vd\n",
    "\n",
    "# DataFrame'ы валидационной выборки\n",
    "df_vd_spam = pd.DataFrame({'name': files_spam_validating, 'is_spam': [1] * num_files_spam_vd})\n",
    "df_vd_ham = pd.DataFrame({'name': files_ham_validating, 'is_spam': [0] * num_files_ham_vd})\n",
    "df_vd = (df_vd_spam.append(df_vd_ham)).sample(frac=1)"
   ]
  },
  {
   "cell_type": "markdown",
   "metadata": {},
   "source": [
    "### Создаём и обучаем классификатор (код самого классификатор -- в файле `NaiveBayesSpamClassifier.py`)"
   ]
  },
  {
   "cell_type": "code",
   "execution_count": 4,
   "metadata": {},
   "outputs": [],
   "source": [
    "classifier = NaiveBayesSpamClassifier()\n",
    "classifier.fit(files_spam_train, files_ham_train)"
   ]
  },
  {
   "cell_type": "markdown",
   "metadata": {},
   "source": [
    "### Предсказываем категорию для каждого письма валидационной выборки"
   ]
  },
  {
   "cell_type": "code",
   "execution_count": 5,
   "metadata": {},
   "outputs": [],
   "source": [
    "df_pred = classifier.predict(df_vd['name'])"
   ]
  },
  {
   "cell_type": "markdown",
   "metadata": {},
   "source": [
    "### Считаем и выводим метрики"
   ]
  },
  {
   "cell_type": "code",
   "execution_count": 6,
   "metadata": {},
   "outputs": [
    {
     "name": "stdout",
     "output_type": "stream",
     "text": [
      "accuracy: 0.90625 (145 / 160)\n",
      "False positives [3]:\n",
      "\tdata/notSpam/000400.7b3d3743d2ec2f08d210cd8a2c\n",
      "\tdata/notSpam/000399.6aff42ecf03e44df55f34ce6eb\n",
      "\tdata/notSpam/000374.f00b971036b69384c6948d1b2a\n",
      "False negatives [12]:\n",
      "\tdata/spam/000342.8dca4ba3ace07255db1c125ce4\n",
      "\tdata/spam/000378.cdf67e2a1f8e2dd2351a7899d9\n",
      "\tdata/spam/000365.94bcde15ad0333351681a29a3e\n",
      "\tdata/spam/000373.6ed8e54e0207bc38a0a2611905\n",
      "\tdata/spam/000363.3c7b8959e332af5aed39897458\n",
      "\tdata/spam/000389.1d5547366fbcd95877d38a9a39\n",
      "\tdata/spam/000325.084173920278a8f5b5b171b8f3\n",
      "\tdata/spam/000393.9d22124a06ed6d007eb737f7d3\n",
      "\tdata/spam/000331.50392132b3c36ad6422dd8f4e0\n",
      "\tdata/spam/000375.2b2732827154333f1ac3bc32ed\n",
      "\tdata/spam/000352.0c8fd45deac89918457366848a\n",
      "\tdata/spam/000348.bca86e7b4bed07838f9ad4d25f\n"
     ]
    }
   ],
   "source": [
    "false_positives = df_pred['name'][np.logical_and(df_pred['is_spam'] == 1, df_vd['is_spam'] == 0)]\n",
    "false_negatives = df_pred['name'][np.logical_and(df_pred['is_spam'] == 0, df_vd['is_spam'] == 1)]\n",
    "\n",
    "num_true_positives = np.sum(np.logical_and(df_pred['is_spam'] == 1, df_vd['is_spam'] == 1))\n",
    "num_true_negatives = np.sum(np.logical_and(df_pred['is_spam'] == 0, df_vd['is_spam'] == 0))\n",
    "\n",
    "accuracy = (num_true_positives + num_true_negatives) / num_files_vd\n",
    "\n",
    "print(f'accuracy: {accuracy} ({num_true_positives + num_true_negatives} / {num_files_vd})')\n",
    "if len(false_positives) != 0:\n",
    "    print(f'False positives [{len(false_positives)}]:\\n\\t' + '\\n\\t'.join(false_positives))\n",
    "if len(false_negatives) != 0:\n",
    "    print(f'False negatives [{len(false_negatives)}]:\\n\\t' + '\\n\\t'.join(false_negatives))"
   ]
  }
 ],
 "metadata": {
  "kernelspec": {
   "display_name": "Python 3",
   "language": "python",
   "name": "python3"
  },
  "language_info": {
   "codemirror_mode": {
    "name": "ipython",
    "version": 3
   },
   "file_extension": ".py",
   "mimetype": "text/x-python",
   "name": "python",
   "nbconvert_exporter": "python",
   "pygments_lexer": "ipython3",
   "version": "3.6.3"
  }
 },
 "nbformat": 4,
 "nbformat_minor": 1
}
